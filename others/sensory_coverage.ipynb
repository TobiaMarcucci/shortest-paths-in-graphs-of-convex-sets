{
 "cells": [
  {
   "cell_type": "markdown",
   "metadata": {},
   "source": [
    "Replicates results from Figure 3 of Burdick, Bouman, Rimon \"From Multi-Target Sensory Coverage to Complete Sensory Coverage: An Optimization-Based Robotic Sensory Coverage Approach\""
   ]
  },
  {
   "cell_type": "code",
   "execution_count": null,
   "metadata": {},
   "outputs": [],
   "source": [
    "%matplotlib notebook\n",
    "%load_ext autoreload\n",
    "%autoreload 2"
   ]
  },
  {
   "cell_type": "code",
   "execution_count": null,
   "metadata": {},
   "outputs": [],
   "source": [
    "import numpy as np\n",
    "import matplotlib.pyplot as plt\n",
    "from itertools import chain, combinations\n",
    "from spp.convex_sets import Singleton, Ellipsoid\n",
    "from spp.convex_functions import TwoNorm, SquaredTwoNorm\n",
    "from spp.graph import GraphOfConvexSets\n",
    "from spp.shortest_path import ShortestPathProblem"
   ]
  },
  {
   "cell_type": "code",
   "execution_count": null,
   "metadata": {
    "scrolled": false
   },
   "outputs": [],
   "source": [
    "# convex sets\n",
    "A = ([2, 0], [0, 2])\n",
    "sets = [\n",
    "    Singleton((0, 0)),\n",
    "    Ellipsoid((1.5, 1), A),\n",
    "    Ellipsoid((2, 2.5), A),\n",
    "    Ellipsoid((3, 5), A),\n",
    "    Ellipsoid((4, 7), A),\n",
    "    Ellipsoid((6, 5), A),\n",
    "    Ellipsoid((7, 3.5), A),\n",
    "    Ellipsoid((8, 2), A),\n",
    "]\n",
    "\n",
    "# add convex sets to the graph\n",
    "G = GraphOfConvexSets()\n",
    "G.add_sets(sets)\n",
    "G.set_source(0)\n",
    "G.set_target(7)\n",
    "\n",
    "# edges\n",
    "H = np.hstack((np.eye(2), -np.eye(2)))\n",
    "l = TwoNorm(H)\n",
    "for u in range(len(sets)):\n",
    "    for v in range(len(sets)):\n",
    "        if u != v:\n",
    "            G.add_edge(u, v, l)\n",
    "        \n",
    "# draw convex sets and edges\n",
    "plt.figure()\n",
    "G.draw_sets()\n",
    "G.label_sets()\n",
    "plt.xlim([-.3, 9])\n",
    "plt.ylim([-.3, 8])\n",
    "plt.grid()"
   ]
  },
  {
   "cell_type": "code",
   "execution_count": null,
   "metadata": {},
   "outputs": [],
   "source": [
    "# add sensory-coverage constraints\n",
    "spp = ShortestPathProblem(G, relaxation=1)\n",
    "for v, Xv in G.sets.items():\n",
    "    if v not in [0, 7]:\n",
    "        Ein = G.incoming_edges(v)[1]\n",
    "        spp.prog.AddLinearConstraint(sum(spp.vars.phi[Ein]) == 1)\n",
    "        \n",
    "# subtour elimination\n",
    "def powerset(iterable):\n",
    "    s = list(iterable)\n",
    "    return chain.from_iterable(combinations(s, r) for r in range(len(s)+1))\n",
    "for subtour in powerset(G.vertices[1:-1]):\n",
    "    if len(subtour) >= 2:\n",
    "        length = 0\n",
    "        for u in subtour:\n",
    "            for v in subtour:\n",
    "                if u != v:\n",
    "                    length += spp.vars.phi[G.edges.index((u, v))]\n",
    "        spp.prog.AddLinearConstraint(length <= len(subtour) - 1)\n",
    "        \n",
    "    # spatial subtour elimination\n",
    "    if len(subtour) == 2:\n",
    "        \n",
    "        u, v = subtour\n",
    "        uv = G.edges.index((u, v))\n",
    "        vu = G.edges.index((v, u))\n",
    "        nonnegative = 1 - spp.vars.phi[uv] - spp.vars.phi[vu]\n",
    "        \n",
    "        Euout = G.outgoing_edges(u)[1]\n",
    "        xu = sum(spp.vars.y[e] for e in Euout)\n",
    "        spatial = xu - spp.vars.y[uv] - spp.vars.z[vu]\n",
    "        G.sets[u].add_perspective_constraint(spp.prog, nonnegative, spatial)\n",
    "        \n",
    "        Evin = G.incoming_edges(v)[1]\n",
    "        xv = sum(spp.vars.z[e] for e in Evin)\n",
    "        spatial = xv - spp.vars.y[vu] - spp.vars.z[uv]\n",
    "        G.sets[v].add_perspective_constraint(spp.prog, nonnegative, spatial)\n",
    "    \n",
    "sol = spp.solve()\n",
    "sol.time"
   ]
  },
  {
   "cell_type": "code",
   "execution_count": null,
   "metadata": {},
   "outputs": [],
   "source": [
    "print('Cost:', sol.cost)\n",
    "print('\\nFlows:')\n",
    "for k, edge in enumerate(G.edges):\n",
    "    flow = round(abs(sol.primal.phi[k]), 4)\n",
    "    print(edge, flow)"
   ]
  },
  {
   "cell_type": "code",
   "execution_count": null,
   "metadata": {},
   "outputs": [],
   "source": [
    "plt.figure(figsize=(3,3))\n",
    "G.draw_sets()\n",
    "G.draw_path(sol.primal.phi, sol.primal.x, color='r')\n",
    "\n",
    "plt.xlim([-.3, 9])\n",
    "plt.ylim([-.3, 8])\n",
    "plt.savefig('sensory_coverage.pdf', bbox_inches='tight')"
   ]
  }
 ],
 "metadata": {
  "kernelspec": {
   "display_name": "Python 3",
   "language": "python",
   "name": "python3"
  },
  "language_info": {
   "codemirror_mode": {
    "name": "ipython",
    "version": 3
   },
   "file_extension": ".py",
   "mimetype": "text/x-python",
   "name": "python",
   "nbconvert_exporter": "python",
   "pygments_lexer": "ipython3",
   "version": "3.9.9"
  }
 },
 "nbformat": 4,
 "nbformat_minor": 4
}
