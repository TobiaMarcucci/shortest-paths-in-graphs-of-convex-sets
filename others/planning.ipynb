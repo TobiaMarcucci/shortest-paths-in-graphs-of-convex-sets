{
 "cells": [
  {
   "cell_type": "code",
   "execution_count": null,
   "metadata": {},
   "outputs": [],
   "source": [
    "%matplotlib notebook\n",
    "%load_ext autoreload\n",
    "%autoreload 2"
   ]
  },
  {
   "cell_type": "code",
   "execution_count": null,
   "metadata": {},
   "outputs": [],
   "source": [
    "import numpy as np\n",
    "import matplotlib.pyplot as plt\n",
    "from copy import deepcopy\n",
    "from spp.convex_sets import Polyhedron, Ellipsoid\n",
    "from spp.motion_planning import MotionPlanner, Bezier"
   ]
  },
  {
   "cell_type": "code",
   "execution_count": null,
   "metadata": {
    "scrolled": false
   },
   "outputs": [],
   "source": [
    "safe_sets = [\n",
    "    Polyhedron.from_vertices(([0, 1], [0, -1], [3, -1], [3, 1])),\n",
    "    Polyhedron.from_vertices(([4, 0], [5, -2], [3, -2], [2, -1])),\n",
    "    Polyhedron.from_vertices(([2, 0], [1, 1], [2, 2], [4, 2], [4, 1])),\n",
    "    Polyhedron.from_vertices(([5, 3], [8, 3], [7, 2], [5, 1])),\n",
    "    Polyhedron.from_vertices(([7, 1], [9, 1], [9, 3], [7, 3])),\n",
    "    Ellipsoid((4.5, 2), ([1, 0], [0, 1])),\n",
    "    Ellipsoid((8, .5), ([.25, 0], [0, 1])),\n",
    "    Ellipsoid((6, 0), ([1, 0], [0, .25])),\n",
    "    Ellipsoid((5, -1), ([.5, 0], [0, 1])),\n",
    "]\n",
    "qs = np.array([1, 0])\n",
    "qt = np.array([8, 2])\n",
    "\n",
    "def plot_safe_sets():\n",
    "    for S in safe_sets:\n",
    "        S.plot()\n",
    "    plt.scatter(*qs, zorder=4, c='k')\n",
    "    plt.scatter(*qt, zorder=4, c='k')"
   ]
  },
  {
   "cell_type": "code",
   "execution_count": null,
   "metadata": {},
   "outputs": [],
   "source": [
    "degree = 2\n",
    "planner = MotionPlanner(safe_sets, qs, qt, degree, relaxation=0)\n",
    "control_points = planner.solve()"
   ]
  },
  {
   "cell_type": "code",
   "execution_count": null,
   "metadata": {},
   "outputs": [],
   "source": [
    "def plot_curve(curve, **kwargs):\n",
    "    t = np.linspace(0, 1, 11)\n",
    "    points = curve.evaluate(t)\n",
    "    plt.plot(*points.T, **kwargs)\n",
    "\n",
    "for points_in_set in control_points:\n",
    "    curve = Bezier(points_in_set)\n",
    "    plot_curve(curve, c='orange')\n",
    "\n",
    "plot_safe_sets()\n",
    "for points_in_set in control_points:\n",
    "    plt.scatter(*points_in_set.T, zorder=3, fc='orange', ec='k')\n",
    "plt.savefig('bezier.pdf', bbox_inches='tight')"
   ]
  }
 ],
 "metadata": {
  "kernelspec": {
   "display_name": "Python 3",
   "language": "python",
   "name": "python3"
  },
  "language_info": {
   "codemirror_mode": {
    "name": "ipython",
    "version": 3
   },
   "file_extension": ".py",
   "mimetype": "text/x-python",
   "name": "python",
   "nbconvert_exporter": "python",
   "pygments_lexer": "ipython3",
   "version": "3.9.9"
  }
 },
 "nbformat": 4,
 "nbformat_minor": 4
}
