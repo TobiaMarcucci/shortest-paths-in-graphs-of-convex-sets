{
 "cells": [
  {
   "cell_type": "code",
   "execution_count": 32,
   "metadata": {},
   "outputs": [
    {
     "name": "stdout",
     "output_type": "stream",
     "text": [
      "The autoreload extension is already loaded. To reload it, use:\n",
      "  %reload_ext autoreload\n"
     ]
    }
   ],
   "source": [
    "%matplotlib notebook\n",
    "%load_ext autoreload\n",
    "%autoreload 2"
   ]
  },
  {
   "cell_type": "code",
   "execution_count": 33,
   "metadata": {},
   "outputs": [],
   "source": [
    "import numpy as np\n",
    "import matplotlib.pyplot as plt\n",
    "from copy import deepcopy\n",
    "from spp.convex_sets import Singleton, Polyhedron\n",
    "from spp.convex_functions import SquaredTwoNorm\n",
    "from spp.graph import GraphOfConvexSets\n",
    "from spp.shortest_path import ShortestPathProblem"
   ]
  },
  {
   "cell_type": "code",
   "execution_count": 44,
   "metadata": {
    "scrolled": false
   },
   "outputs": [],
   "source": [
    "# convex sets\n",
    "sets = (\n",
    "    Singleton((-1)),\n",
    "    Singleton((1)),\n",
    "    Polyhedron.from_bounds([-1], [1]),\n",
    "    Singleton((0)),\n",
    ")\n",
    "\n",
    "# label for the vertices\n",
    "vertices = ['s', 't', '1', '2']\n",
    "\n",
    "# add convex sets to the graph\n",
    "G = GraphOfConvexSets()\n",
    "G.add_sets(sets, vertices)\n",
    "G.set_source('s')\n",
    "G.set_target('t')\n",
    "\n",
    "# edges\n",
    "H = np.array([[ 1., -1.]])\n",
    "l = SquaredTwoNorm(H)\n",
    "edges = {\n",
    "    's': ('1',),\n",
    "    '1': ('2', 't'),\n",
    "    '2': ('1')\n",
    "}\n",
    "for u, vs in edges.items():\n",
    "    for v in vs:\n",
    "        G.add_edge(u, v, l)"
   ]
  },
  {
   "cell_type": "code",
   "execution_count": 47,
   "metadata": {},
   "outputs": [
    {
     "name": "stdout",
     "output_type": "stream",
     "text": [
      "Cost: 1.9999999989168118\n",
      "\n",
      "Flows:\n",
      "('s', '1') 1.0\n",
      "('1', '2') 0.0\n",
      "('1', 't') 1.0\n",
      "('2', '1') 0.0\n"
     ]
    }
   ],
   "source": [
    "spp = ShortestPathProblem(G, relaxation=0, cyclic=True)\n",
    "sol = spp.solve()\n",
    "\n",
    "print('Cost:', sol.cost)\n",
    "print('\\nFlows:')\n",
    "for k, edge in enumerate(G.edges):\n",
    "    flow = round(abs(sol.primal.phi[k]), 4)\n",
    "    print(edge, flow)"
   ]
  },
  {
   "cell_type": "code",
   "execution_count": null,
   "metadata": {},
   "outputs": [],
   "source": []
  }
 ],
 "metadata": {
  "kernelspec": {
   "display_name": "Python 3 (ipykernel)",
   "language": "python",
   "name": "python3"
  },
  "language_info": {
   "codemirror_mode": {
    "name": "ipython",
    "version": 3
   },
   "file_extension": ".py",
   "mimetype": "text/x-python",
   "name": "python",
   "nbconvert_exporter": "python",
   "pygments_lexer": "ipython3",
   "version": "3.11.2"
  }
 },
 "nbformat": 4,
 "nbformat_minor": 4
}
