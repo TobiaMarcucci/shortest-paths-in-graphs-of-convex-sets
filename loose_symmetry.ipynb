{
 "cells": [
  {
   "cell_type": "code",
   "execution_count": null,
   "metadata": {},
   "outputs": [],
   "source": [
    "%matplotlib notebook\n",
    "%load_ext autoreload\n",
    "%autoreload 2"
   ]
  },
  {
   "cell_type": "code",
   "execution_count": null,
   "metadata": {},
   "outputs": [],
   "source": [
    "import numpy as np\n",
    "import matplotlib.pyplot as plt\n",
    "from spp.convex_sets import Singleton, Polyhedron\n",
    "from spp.convex_functions import TwoNorm\n",
    "from spp.graph import GraphOfConvexSets\n",
    "from spp.shortest_path import ShortestPathProblem"
   ]
  },
  {
   "cell_type": "code",
   "execution_count": null,
   "metadata": {},
   "outputs": [],
   "source": [
    "# vertices\n",
    "sets = [\n",
    "    Singleton([0, 0]),\n",
    "    Singleton([0, 2]),\n",
    "    Singleton([0, -2-1e-9]),\n",
    "    Polyhedron.from_vertices([[2, -2.1], [4, -2.1], [4, 2.1], [2, 2.1]]),\n",
    "    Singleton([5, 0])\n",
    "]\n",
    "sets[3]._center = np.array([3, 0])\n",
    "vertices = ['s', '1', '2', '3', 't']\n",
    "\n",
    "# add convex sets to the graph\n",
    "G = GraphOfConvexSets()\n",
    "G.add_sets(sets, vertices)\n",
    "G.set_source('s')\n",
    "G.set_target('t')\n",
    "\n",
    "# edges\n",
    "H = np.hstack((np.eye(2), -np.eye(2)))\n",
    "l = TwoNorm(H)\n",
    "edges = {\n",
    "    's': ('1', '2'),\n",
    "    '1': ('3',),\n",
    "    '2': ('3',),\n",
    "    '3': ('t',),\n",
    "}\n",
    "for u, vs in edges.items():\n",
    "    for v in vs:\n",
    "        G.add_edge(u, v, l)"
   ]
  },
  {
   "cell_type": "markdown",
   "metadata": {},
   "source": [
    "# Plot solution of MICP"
   ]
  },
  {
   "cell_type": "code",
   "execution_count": null,
   "metadata": {},
   "outputs": [],
   "source": [
    "spp = ShortestPathProblem(G, relaxation=0, cyclic=False)\n",
    "sol = spp.solve()\n",
    "phi = sol.primal.phi\n",
    "x = sol.primal.x\n",
    "\n",
    "print('Cost:', sol.cost)\n",
    "print('\\nFlows:')\n",
    "for k, edge in enumerate(G.edges):\n",
    "    flow = round(abs(phi[k]), 4)\n",
    "    print(edge, flow)"
   ]
  },
  {
   "cell_type": "code",
   "execution_count": null,
   "metadata": {},
   "outputs": [],
   "source": [
    "plt.figure(figsize=(3.5,3.5))\n",
    "G.draw_sets()\n",
    "G.draw_edges()\n",
    "\n",
    "plt.text(0.2, 0, r'$s$', ha='left', va='center')\n",
    "plt.text(0.3, 2, r'$1$', ha='left', va='center')\n",
    "plt.text(0.3, -2, r'$2$', ha='left', va='center')\n",
    "plt.text(3, 0.1, r'$3$', ha='center', va='bottom')\n",
    "plt.text(5, 0.1, r'$t$', ha='center', va='bottom')\n",
    "\n",
    "kwargs = {'marker': 'o', 'markeredgecolor': 'k', 'markerfacecolor': 'w'}\n",
    "G.draw_path(phi, x, color='orangered')\n",
    "\n",
    "plt.grid()\n",
    "plt.savefig('symmetry_mip.pdf', bbox_inches='tight')"
   ]
  },
  {
   "cell_type": "markdown",
   "metadata": {},
   "source": [
    "# Plot solution of convex relaxation"
   ]
  },
  {
   "cell_type": "code",
   "execution_count": null,
   "metadata": {},
   "outputs": [],
   "source": [
    "spp = ShortestPathProblem(G, relaxation=1)\n",
    "sol = spp.solve()\n",
    "phi = sol.primal.phi\n",
    "x = sol.primal.x\n",
    "y = sol.primal.y\n",
    "z = sol.primal.z\n",
    "\n",
    "print('Cost:', sol.cost)\n",
    "print('\\nFlows:')\n",
    "for k, edge in enumerate(G.edges):\n",
    "    flow = round(abs(phi[k]), 4)\n",
    "    print(edge, flow)"
   ]
  },
  {
   "cell_type": "code",
   "execution_count": null,
   "metadata": {},
   "outputs": [],
   "source": [
    "import matplotlib\n",
    "# matplotlib.rc('text', usetex=True)\n",
    "# matplotlib.rcParams['text.latex.preamble'] = r'\\usepackage{bm}'\n",
    "\n",
    "plt.figure(figsize=(3.5,3.5))\n",
    "G.draw_sets()\n",
    "\n",
    "Z = r'\\bar{\\bf{z}}'\n",
    "plt.text(.2, 0,\n",
    "         '$' + Z + '_{(s,1)} =' + Z + '_{(s,2)}$',\n",
    "         ha='left', va='center')\n",
    "plt.text(.1, 1.9,\n",
    "         '$' + Z + '_{(s,1)}^\\prime =' + Z + '_{(1,3)}$',\n",
    "         ha='left', va='top')\n",
    "plt.text(.1, -1.9,\n",
    "         r'$' + Z + '_{(s,2)}^\\prime =' + Z + '_{(2,3)}$',\n",
    "         ha='left', va='bottom')\n",
    "plt.text(3, 1.9,\n",
    "         r'$' + Z + '_{(1,3)}^\\prime$',\n",
    "         ha='center', va='top')\n",
    "plt.text(3, -1.9,\n",
    "         r'$' + Z + '_{(2,3)}^\\prime$',\n",
    "         ha='center', va='bottom')\n",
    "plt.text(3, 0.1,\n",
    "         r'$' + Z + '_{(3,t)}$',\n",
    "         ha='center', va='bottom')\n",
    "plt.text(5, .1,\n",
    "         r'$' + Z + '_{(3,t)}^\\prime$',\n",
    "         ha='right', va='bottom')\n",
    "\n",
    "plt.text(.1, 1, r'$1/2$', ha='left', va='center', c='b')\n",
    "plt.text(.1, -1, r'$1/2$', ha='left', va='center', c='b')\n",
    "plt.text(1, 1.99, r'$1/2$', ha='center', va='bottom', c='b')\n",
    "plt.text(1, -2.05, r'$1/2$', ha='center', va='top', c='b')\n",
    "plt.text(3.8, 0, r'$1$', ha='right', va='bottom', c='b')\n",
    "\n",
    "y3t = y[4] / phi[4]\n",
    "z13 = z[2] / phi[2]\n",
    "z23 = z[3] / phi[3]\n",
    "\n",
    "plt.plot([0, 0], [0, 2], 'orangered', **kwargs)\n",
    "plt.plot([0, 0], [0, -2], 'orangered', **kwargs)\n",
    "plt.plot([0, z13[0]], [2, z13[1]], 'orangered', **kwargs)\n",
    "plt.plot([0, z23[0]], [-2, z23[1]], 'orangered', **kwargs)\n",
    "plt.plot([y3t[0], 5], [y3t[1], 0], 'orangered', **kwargs)\n",
    "\n",
    "plt.grid()\n",
    "plt.savefig('symmetry_relaxation.pdf', bbox_inches='tight')"
   ]
  },
  {
   "cell_type": "code",
   "execution_count": null,
   "metadata": {},
   "outputs": [],
   "source": []
  }
 ],
 "metadata": {
  "kernelspec": {
   "display_name": "Python 3 (ipykernel)",
   "language": "python",
   "name": "python3"
  },
  "language_info": {
   "codemirror_mode": {
    "name": "ipython",
    "version": 3
   },
   "file_extension": ".py",
   "mimetype": "text/x-python",
   "name": "python",
   "nbconvert_exporter": "python",
   "pygments_lexer": "ipython3",
   "version": "3.11.2"
  }
 },
 "nbformat": 4,
 "nbformat_minor": 4
}
