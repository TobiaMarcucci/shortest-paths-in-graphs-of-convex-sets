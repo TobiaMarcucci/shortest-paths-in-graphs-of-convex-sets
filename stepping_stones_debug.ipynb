{
 "cells": [
  {
   "cell_type": "code",
   "execution_count": null,
   "metadata": {},
   "outputs": [],
   "source": [
    "%matplotlib notebook\n",
    "%load_ext autoreload\n",
    "%autoreload 2"
   ]
  },
  {
   "cell_type": "code",
   "execution_count": null,
   "metadata": {},
   "outputs": [],
   "source": [
    "import numpy as np\n",
    "import matplotlib.pyplot as plt\n",
    "from utils.convex_sets import Singleton, Polyhedron, CartesianProduct\n",
    "from utils.convex_functions import SquaredTwoNorm\n",
    "from utils.pwa_systems import PieceWiseAffineSystem, ShortestPathRegulator\n",
    "from pydrake.all import MosekSolver, GurobiSolver"
   ]
  },
  {
   "cell_type": "code",
   "execution_count": null,
   "metadata": {},
   "outputs": [],
   "source": [
    "# initial state\n",
    "z1 = np.array([-3.5, .5, 0, 0])\n",
    "q1 = z1[:2]\n",
    "\n",
    "# target set\n",
    "zK = np.array([3.5, 6.5, 0, 0])\n",
    "qK = zK[:2]\n",
    "Z = Singleton(zK)\n",
    "\n",
    "# time horizon\n",
    "K = 30\n",
    "\n",
    "# cost matrices\n",
    "q_dot_cost = .2 ** .5\n",
    "Q = np.diag([0, 0, q_dot_cost, q_dot_cost])\n",
    "R = np.eye(2)\n",
    "S = Q # ininfluential\n",
    "cost_matrices = (Q, R, S)"
   ]
  },
  {
   "cell_type": "code",
   "execution_count": null,
   "metadata": {},
   "outputs": [],
   "source": [
    "# configuration bounds\n",
    "Dq = [\n",
    "    Polyhedron.from_bounds([-4, 0], [3, 1]),\n",
    "    Polyhedron.from_bounds([-6, 1], [-5, 3]),\n",
    "    Polyhedron.from_bounds([4, 1], [5, 2]),\n",
    "    Polyhedron.from_bounds([-4, 3], [4, 4]),\n",
    "    Polyhedron.from_bounds([-5, 5], [-4, 6]),\n",
    "    Polyhedron.from_bounds([5, 4], [6, 6]),\n",
    "    Polyhedron.from_bounds([-3, 6], [4, 7])\n",
    "]\n",
    "\n",
    "# velocity bounds\n",
    "qdot_max = np.ones(2) * 1\n",
    "qdot_min = - qdot_max\n",
    "Dqdot = Polyhedron.from_bounds(qdot_min, qdot_max)\n",
    "\n",
    "# control bounds\n",
    "u_max = np.ones(2) * 1\n",
    "u_min = - u_max\n",
    "Du = Polyhedron.from_bounds(u_min, u_max)\n",
    "\n",
    "# pwa domains\n",
    "domains = [CartesianProduct((Dqi, Dqdot, Du)) for Dqi in Dq]"
   ]
  },
  {
   "cell_type": "code",
   "execution_count": null,
   "metadata": {},
   "outputs": [],
   "source": [
    "# dynamics\n",
    "A = np.array([\n",
    "    [1, 0, 1, 0],\n",
    "    [0, 1, 0, 1],\n",
    "    [0, 0, 1, 0],\n",
    "    [0, 0, 0, 1]\n",
    "])\n",
    "B = np.vstack((np.zeros((2, 2)), np.eye(2)))\n",
    "Bred = B / 10\n",
    "c = np.zeros(4)\n",
    "dynamics = [(A, Bred, c) if i in [1, 5] else (A, B, c) for i in range(len(domains))]\n",
    "\n",
    "# pieceiwse affine system\n",
    "pwa = PieceWiseAffineSystem(dynamics, domains)"
   ]
  },
  {
   "cell_type": "code",
   "execution_count": null,
   "metadata": {},
   "outputs": [],
   "source": [
    "# select solver\n",
    "# Mosek and Gurobi give different answers\n",
    "# Gurobi's one is the correct one\n",
    "solver = MosekSolver()"
   ]
  },
  {
   "cell_type": "code",
   "execution_count": null,
   "metadata": {},
   "outputs": [],
   "source": [
    "# solve optimal control problem\n",
    "relaxation = 0\n",
    "reg = ShortestPathRegulator(pwa, K, z1, Z, cost_matrices, solver, relaxation)\n",
    "sol = reg.solve()\n",
    "print('Cost:', sol.spp.cost)\n",
    "print('Solve time:', sol.spp.time)\n",
    "\n",
    "# unpack result\n",
    "q = sol.z[:, :2]\n",
    "u = sol.u"
   ]
  },
  {
   "cell_type": "code",
   "execution_count": null,
   "metadata": {},
   "outputs": [],
   "source": [
    "def plot_terrain(q=None, u=None):\n",
    "    plt.rc('axes', axisbelow=True)\n",
    "    plt.gca().set_aspect('equal')\n",
    "\n",
    "    for i, Dqi in enumerate(Dq):\n",
    "        color = 'lightcoral' if i in [1, 5] else 'lightcyan'\n",
    "        Dqi.plot(facecolor=color)\n",
    "        \n",
    "    plt.scatter(*q1, s=300, c='g', marker='+', zorder=2)\n",
    "    plt.scatter(*qK, s=300, c='g', marker='x', zorder=2)\n",
    "    \n",
    "    if q is not None:\n",
    "        plt.plot(*q.T, c='k', marker='o', markeredgecolor='k', markerfacecolor='w')\n",
    "        \n",
    "        if u is not None:\n",
    "            for t, ut in enumerate(u):\n",
    "                plt.arrow(*q[t], *ut, color='b', head_starts_at_zero=0, head_width=.15, head_length=.3)\n",
    "                \n",
    "    plt.xlabel(r'$q_1, u_1$')\n",
    "    plt.ylabel(r'$q_2, u_2$')\n",
    "    plt.grid(1)"
   ]
  },
  {
   "cell_type": "code",
   "execution_count": null,
   "metadata": {
    "scrolled": false
   },
   "outputs": [],
   "source": [
    "# plot solution\n",
    "plt.figure()\n",
    "plot_terrain(q, u)"
   ]
  },
  {
   "cell_type": "markdown",
   "metadata": {},
   "source": [
    "# Debug constraint satisfaction"
   ]
  },
  {
   "cell_type": "code",
   "execution_count": null,
   "metadata": {},
   "outputs": [],
   "source": [
    "# rename variables in the spp solution\n",
    "G = reg.spp.graph\n",
    "phi = sol.spp.primal.phi\n",
    "y = sol.spp.primal.y\n",
    "z = sol.spp.primal.z\n",
    "l = sol.spp.primal.l\n",
    "x = sol.spp.primal.x\n",
    "\n",
    "for k, e in enumerate(G.edges):\n",
    "    \n",
    "    # edges along the shortest path\n",
    "    if np.isclose(phi[k], 1):\n",
    "        \n",
    "        # position of vertices incident with edge e\n",
    "        xu, xv = x[G.vertex_indices(e)]\n",
    "        \n",
    "        # checks that xu - y[k] in (1 - phi[k]) Xu\n",
    "        # since here phi[k] = 1, we must have xu = y[k]\n",
    "        if not np.allclose(y[k], xu, atol=1.e-4):\n",
    "            print('xu != y[k] at edge', k, e)\n",
    "            print(np.round(y[k] - xu, 4))\n",
    "            \n",
    "        # checks that xv - z[k] in (1 - phi[k]) Xv\n",
    "        # since here phi[k] = 1, we must have xv = z[k]\n",
    "        if not np.allclose(z[k], xv, atol=1.e-4):\n",
    "            print('xv != z[k] at edge', k, e)\n",
    "            print(np.round(z[k] - xv, 4))\n",
    "            \n",
    "    else:\n",
    "        \n",
    "        # checks that y[k] in phi[k] Xu\n",
    "        # since here phi[k] = 0, we must have y[k] = 0\n",
    "        assert np.allclose(y[k], 0, atol=1.e-4)\n",
    "        \n",
    "        # checks that z[k] in phi[k] Xv\n",
    "        # since here phi[k] = 0, we must have z[k] = 0\n",
    "        assert np.allclose(z[k], 0, atol=1.e-4)"
   ]
  },
  {
   "cell_type": "markdown",
   "metadata": {},
   "source": [
    "# What's wrong with the 401st edge?"
   ]
  },
  {
   "cell_type": "code",
   "execution_count": null,
   "metadata": {},
   "outputs": [],
   "source": [
    "# select one of the linear constraints that enforce\n",
    "# xu - y[k] in (1 - phi[k]) Xu\n",
    "# for the 401st edge\n",
    "c_violated = reg.spp.prog.linear_constraints()[4975]\n",
    "print(str(c_violated))\n",
    "\n",
    "# these should all be <= 1\n",
    "print(phi[401] - y[401,4] + x[57,4])\n",
    "print(phi[401] - y[401,5] + x[57,5])\n",
    "print(phi[401] + y[401,4] - x[57,4])\n",
    "print(phi[401] + y[401,5] - x[57,5])"
   ]
  },
  {
   "cell_type": "code",
   "execution_count": null,
   "metadata": {},
   "outputs": [],
   "source": [
    "vars = np.concatenate((\n",
    "    phi,\n",
    "    y.flatten(),\n",
    "    z.flatten(),\n",
    "    l,\n",
    "    x.flatten()\n",
    "))\n",
    "c_eval = c_violated.evaluator()\n",
    "print('Satisfied:', c_eval.CheckSatisfied(vars))\n",
    "print('Evaluated:', c_eval.Eval(vars))"
   ]
  }
 ],
 "metadata": {
  "kernelspec": {
   "display_name": "Python 3",
   "language": "python",
   "name": "python3"
  },
  "language_info": {
   "codemirror_mode": {
    "name": "ipython",
    "version": 3
   },
   "file_extension": ".py",
   "mimetype": "text/x-python",
   "name": "python",
   "nbconvert_exporter": "python",
   "pygments_lexer": "ipython3",
   "version": "3.9.4"
  }
 },
 "nbformat": 4,
 "nbformat_minor": 4
}
