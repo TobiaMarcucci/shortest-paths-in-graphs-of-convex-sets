{
 "cells": [
  {
   "cell_type": "code",
   "execution_count": null,
   "metadata": {},
   "outputs": [],
   "source": [
    "# notebook settings\n",
    "%load_ext autoreload\n",
    "%autoreload 2\n",
    "\n",
    "# external imports\n",
    "import numpy as np\n",
    "import matplotlib.pyplot as plt\n",
    "\n",
    "# internal imports\n",
    "from spp.pwa_systems import ShortestPathRegulator\n",
    "from ball_and_paddle_parameters import K, Z, cost_matrices\n",
    "from ball_and_paddle_dynamics import pwa"
   ]
  },
  {
   "cell_type": "code",
   "execution_count": null,
   "metadata": {},
   "outputs": [],
   "source": [
    "# initial state\n",
    "z1 = np.array([\n",
    "    0., 0., np.pi,\n",
    "    0., 0.,\n",
    "    0., 0., 0.,\n",
    "    0., 0.\n",
    "])\n",
    "\n",
    "# solve optimal control problem\n",
    "relaxation = 0\n",
    "reg = ShortestPathRegulator(pwa, K, z1, Z, cost_matrices, relaxation=relaxation)\n",
    "sol = reg.solve()\n",
    "print('Cost:', sol.spp.cost)\n",
    "print('Solve time:', sol.spp.time)"
   ]
  },
  {
   "cell_type": "code",
   "execution_count": null,
   "metadata": {},
   "outputs": [],
   "source": []
  }
 ],
 "metadata": {
  "kernelspec": {
   "display_name": "Python 3",
   "language": "python",
   "name": "python3"
  },
  "language_info": {
   "codemirror_mode": {
    "name": "ipython",
    "version": 3
   },
   "file_extension": ".py",
   "mimetype": "text/x-python",
   "name": "python",
   "nbconvert_exporter": "python",
   "pygments_lexer": "ipython3",
   "version": "3.9.10"
  }
 },
 "nbformat": 4,
 "nbformat_minor": 2
}
