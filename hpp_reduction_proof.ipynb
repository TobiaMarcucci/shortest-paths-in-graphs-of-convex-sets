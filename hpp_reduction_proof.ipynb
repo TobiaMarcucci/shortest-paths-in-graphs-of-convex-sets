{
 "cells": [
  {
   "cell_type": "code",
   "execution_count": null,
   "metadata": {},
   "outputs": [],
   "source": [
    "%matplotlib notebook\n",
    "%load_ext autoreload\n",
    "%autoreload 2"
   ]
  },
  {
   "cell_type": "code",
   "execution_count": null,
   "metadata": {},
   "outputs": [],
   "source": [
    "import numpy as np\n",
    "import matplotlib.pyplot as plt\n",
    "from copy import deepcopy\n",
    "from spp.convex_sets import Singleton, Polyhedron\n",
    "from spp.convex_functions import SquaredTwoNorm\n",
    "from spp.graph import GraphOfConvexSets\n",
    "from spp.shortest_path import ShortestPathProblem"
   ]
  },
  {
   "cell_type": "code",
   "execution_count": null,
   "metadata": {
    "scrolled": false
   },
   "outputs": [],
   "source": [
    "scale = 4\n",
    "\n",
    "v1 = np.array([[1, 1], [2, 1], [2, 2], [1, 2]]) - np.array([0, .01])\n",
    "v2 = np.array([[1, -1], [2, -1], [2, -2], [1, -2]])\n",
    "v3 = np.array([[3, 1], [4, 1], [4, 2], [3, 2]]) - np.array([0, .01])\n",
    "v4 = np.array([[3, -1], [4, -1], [4, -2], [3, -2]])\n",
    "\n",
    "# convex sets\n",
    "sets = (\n",
    "    Singleton((0, 0)),\n",
    "    Singleton((5, 0)),\n",
    "    Polyhedron.from_vertices(v1),\n",
    "    Polyhedron.from_vertices(v2),\n",
    "    Polyhedron.from_vertices(v3),\n",
    "    Polyhedron.from_vertices(v4),\n",
    ")\n",
    "\n",
    "# label for the vertices\n",
    "vertices = ['s', 't', '1', '2', '3', '4']\n",
    "\n",
    "# add convex sets to the graph\n",
    "G = GraphOfConvexSets()\n",
    "G.add_sets(sets, vertices)\n",
    "G.set_source('s')\n",
    "G.set_target('t')\n",
    "\n",
    "# edges\n",
    "H = np.hstack((np.eye(2), -np.eye(2)))\n",
    "l = SquaredTwoNorm(H)\n",
    "edges = {\n",
    "    's': ('1', '2'),\n",
    "    '1': ('3',),\n",
    "    '2': ('1', '4'),\n",
    "    '3': ('4', 't'),\n",
    "    '4': ('t',),\n",
    "}\n",
    "for u, vs in edges.items():\n",
    "    for v in vs:\n",
    "        G.add_edge(u, v, l)\n",
    "\n",
    "# scale sets\n",
    "G_scaled = deepcopy(G)\n",
    "G_scaled.scale(.5 * scale)\n",
    "        \n",
    "# solve spp\n",
    "spp = ShortestPathProblem(G_scaled, relaxation=0)\n",
    "sol = spp.solve()\n",
    "        \n",
    "# draw convex sets and edges\n",
    "plt.figure(figsize=(3,3))\n",
    "plt.axis('off')\n",
    "plt.xlim([-.2, 5.2])\n",
    "plt.ylim([-2.6, 2.6])\n",
    "\n",
    "G_scaled.draw_sets()\n",
    "G_scaled.draw_edges()\n",
    "G_scaled.draw_path(sol.primal.phi, sol.primal.x, color='r')\n",
    "# plt.savefig(f'reduction_{scale}.pdf', bbox_inches='tight')"
   ]
  }
 ],
 "metadata": {
  "kernelspec": {
   "display_name": "Python 3 (ipykernel)",
   "language": "python",
   "name": "python3"
  },
  "language_info": {
   "codemirror_mode": {
    "name": "ipython",
    "version": 3
   },
   "file_extension": ".py",
   "mimetype": "text/x-python",
   "name": "python",
   "nbconvert_exporter": "python",
   "pygments_lexer": "ipython3",
   "version": "3.11.2"
  }
 },
 "nbformat": 4,
 "nbformat_minor": 4
}
