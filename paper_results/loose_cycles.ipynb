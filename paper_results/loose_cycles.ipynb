{
 "cells": [
  {
   "cell_type": "code",
   "execution_count": null,
   "metadata": {},
   "outputs": [],
   "source": [
    "%matplotlib notebook\n",
    "%load_ext autoreload\n",
    "%autoreload 2"
   ]
  },
  {
   "cell_type": "code",
   "execution_count": null,
   "metadata": {},
   "outputs": [],
   "source": [
    "import numpy as np\n",
    "import matplotlib.pyplot as plt\n",
    "from spp.convex_sets import Singleton, Polyhedron\n",
    "from spp.convex_functions import SquaredTwoNorm\n",
    "from spp.graph import GraphOfConvexSets\n",
    "from spp.shortest_path import ShortestPathProblem"
   ]
  },
  {
   "cell_type": "code",
   "execution_count": null,
   "metadata": {},
   "outputs": [],
   "source": [
    "# vertices\n",
    "cube = np.array([[-1, -1], [1, -1], [1, 1], [-1, 1]]) * .7\n",
    "sets = [\n",
    "    Singleton([0, 0]),\n",
    "    Polyhedron.from_vertices(cube + np.array([2, 2])),\n",
    "    Polyhedron.from_vertices(cube + np.array([4, 2])),\n",
    "    Polyhedron.from_vertices(cube + np.array([2, -2])),\n",
    "    Polyhedron.from_vertices(cube + np.array([4, -2])),\n",
    "    Singleton([6, 0])\n",
    "]\n",
    "vertices = ['s', '1', '2', '3', '4', 't']\n",
    "\n",
    "# add convex sets to the graph\n",
    "G = GraphOfConvexSets()\n",
    "G.add_sets(sets, vertices)\n",
    "G.set_source('s')\n",
    "G.set_target('t')\n",
    "\n",
    "# edges\n",
    "H = np.hstack((np.eye(2), -np.eye(2)))\n",
    "l = SquaredTwoNorm(H)\n",
    "edges = {\n",
    "    's': ('1', '3'),\n",
    "    '1': ('2',),\n",
    "    '2': ('1', 't'),\n",
    "    '3': ('4',),\n",
    "    '4': ('3', 't')\n",
    "}\n",
    "for u, vs in edges.items():\n",
    "    for v in vs:\n",
    "        G.add_edge(u, v, l)"
   ]
  },
  {
   "cell_type": "markdown",
   "metadata": {},
   "source": [
    "# Plot solution of MICP"
   ]
  },
  {
   "cell_type": "code",
   "execution_count": null,
   "metadata": {},
   "outputs": [],
   "source": [
    "spp = ShortestPathProblem(G, relaxation=0)\n",
    "sol = spp.solve()\n",
    "phi = sol.primal.phi\n",
    "x = sol.primal.x\n",
    "\n",
    "print('Cost:', sol.cost)\n",
    "print('\\nFlows:')\n",
    "for k, edge in enumerate(G.edges):\n",
    "    flow = round(abs(phi[k]), 4)\n",
    "    print(edge, flow)"
   ]
  },
  {
   "cell_type": "code",
   "execution_count": null,
   "metadata": {},
   "outputs": [],
   "source": [
    "plt.figure(figsize=(4,4))\n",
    "G.draw_sets()\n",
    "G.draw_edges()\n",
    "\n",
    "plt.text(0, -.2, r'$X_s$', ha='center', va='top', c='k')\n",
    "plt.text(2, 2.1, r'$X_1$', ha='center', va='bottom', c='k')\n",
    "plt.text(4, 2.1, r'$X_2$', ha='center', va='bottom', c='k')\n",
    "plt.text(2, -2.1, r'$X_3$', ha='center', va='top', c='k')\n",
    "plt.text(4, -2.1, r'$X_4$', ha='center', va='top', c='k')\n",
    "plt.text(6, -.2, r'$X_t$', ha='center', va='top', c='k')\n",
    "\n",
    "kwargs = {'marker': 'o', 'markeredgecolor': 'k', 'markerfacecolor': 'w'}\n",
    "G.draw_path(phi, x, color='b', linestyle='--')\n",
    "\n",
    "plt.grid()\n",
    "# plt.savefig('cycle_mip.pdf', bbox_inches='tight')"
   ]
  },
  {
   "cell_type": "markdown",
   "metadata": {},
   "source": [
    "# Plot solution of convex relaxation"
   ]
  },
  {
   "cell_type": "code",
   "execution_count": null,
   "metadata": {},
   "outputs": [],
   "source": [
    "spp = ShortestPathProblem(G, relaxation=1)\n",
    "sol = spp.solve()\n",
    "phi = sol.primal.phi\n",
    "x = sol.primal.x\n",
    "y = sol.primal.y\n",
    "z = sol.primal.z\n",
    "\n",
    "print('Cost:', sol.cost)\n",
    "print('\\nFlows:')\n",
    "for k, edge in enumerate(G.edges):\n",
    "    flow = round(abs(phi[k]), 4)\n",
    "    print(edge, flow)"
   ]
  },
  {
   "cell_type": "code",
   "execution_count": null,
   "metadata": {},
   "outputs": [],
   "source": [
    "plt.figure(figsize=(4,4))\n",
    "G.draw_sets()\n",
    "\n",
    "def phi(u, v):\n",
    "    e = G.edges.index((u, v))\n",
    "    return sol.primal.phi[e]\n",
    "\n",
    "def y(u, v):\n",
    "    e = G.edges.index((u, v))\n",
    "    return sol.primal.y[e] / phi(u, v)\n",
    "\n",
    "def z(u, v):\n",
    "    e = G.edges.index((u, v))\n",
    "    return sol.primal.z[e] / phi(u, v)\n",
    "\n",
    "def plot(start, stop):\n",
    "    plt.plot([start[0], stop[0]], [start[1], stop[1]], 'b--', **kwargs)\n",
    "    \n",
    "for e in G.edges:\n",
    "    if e[0] not in [3, 4] and e[1] not in [3, 4]:\n",
    "        plot(y(*e), z(*e))\n",
    "\n",
    "plt.text(*(y('s','1') + [.3, 0]), r'$\\bar y_{(s,1)}$', ha='left', va='center', c='k')\n",
    "plt.text(*(z('s','1') + [0, -.1]), r'$\\bar z_{(s,1)}$', ha='left', va='top', c='k')\n",
    "plt.text(*(y('1','2') + [-.09, 0]), r'$\\bar y_{(1,2)}$', ha='right', va='center', c='k')\n",
    "plt.text(*(z('1','2') + [.13, 0]), r'$\\bar z_{(1,2)}$', ha='left', va='center', c='k')\n",
    "plt.text(*(y('2','1') + [.1, 0]), r'$\\bar y_{(2,1)}$', ha='left', va='center', c='k')\n",
    "plt.text(*(z('2','1') + [-.1, 0]), r'$\\bar z_{(2,1)}$', ha='right', va='center', c='k')\n",
    "plt.text(*(y('2','t') + [0, -.1]), r'$\\bar y_{(2,t)}$', ha='right', va='top', c='k')\n",
    "plt.text(*(z('2','t') + [-.3, 0]), r'$\\bar z_{(2,t)}$', ha='right', va='center', c='k')\n",
    "\n",
    "def center(u, v):\n",
    "    return (y(u,v) + z(u,v)) / 2\n",
    "plt.text(*(center('s','1') + [0, .05]), r'$0.5$', ha='right', va='bottom', c='r')\n",
    "plt.text(*(center('1','2') + [0, .05]), r'$1.0$', ha='center', va='bottom', c='r')\n",
    "plt.text(*(center('2','1') + [0, .05]), r'$0.5$', ha='center', va='bottom', c='r')\n",
    "plt.text(*(center('2','t') + [.05, 0]), r'$0.5$', ha='left', va='bottom', c='r')\n",
    "\n",
    "plt.grid()\n",
    "# plt.savefig('cycle_relaxation.pdf', bbox_inches='tight')"
   ]
  }
 ],
 "metadata": {
  "kernelspec": {
   "display_name": "Python 3",
   "language": "python",
   "name": "python3"
  },
  "language_info": {
   "codemirror_mode": {
    "name": "ipython",
    "version": 3
   },
   "file_extension": ".py",
   "mimetype": "text/x-python",
   "name": "python",
   "nbconvert_exporter": "python",
   "pygments_lexer": "ipython3",
   "version": "3.9.6"
  }
 },
 "nbformat": 4,
 "nbformat_minor": 4
}
