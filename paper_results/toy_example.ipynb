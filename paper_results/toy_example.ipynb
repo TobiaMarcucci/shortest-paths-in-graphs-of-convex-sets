{
 "cells": [
  {
   "cell_type": "code",
   "execution_count": null,
   "metadata": {},
   "outputs": [],
   "source": [
    "%matplotlib notebook\n",
    "%load_ext autoreload\n",
    "%autoreload 2"
   ]
  },
  {
   "cell_type": "code",
   "execution_count": null,
   "metadata": {},
   "outputs": [],
   "source": [
    "import numpy as np\n",
    "import matplotlib.pyplot as plt\n",
    "from copy import deepcopy\n",
    "from spp.convex_sets import Singleton, Polyhedron, Ellipsoid\n",
    "from spp.convex_functions import TwoNorm, SquaredTwoNorm\n",
    "from spp.graph import GraphOfConvexSets\n",
    "from spp.shortest_path import ShortestPathProblem"
   ]
  },
  {
   "cell_type": "code",
   "execution_count": null,
   "metadata": {
    "scrolled": false
   },
   "outputs": [],
   "source": [
    "# convex sets\n",
    "singletons = (\n",
    "    Singleton((0, 0)),\n",
    "    Singleton((9, 0)),\n",
    ")\n",
    "polyhedra = (\n",
    "    Polyhedron.from_vertices(([1, 0], [1, -2], [3, -2], [3, -1])),\n",
    "    Polyhedron.from_vertices(([4, -2], [5, -4], [3, -4], [2, -3])),\n",
    "    Polyhedron.from_vertices(([2, 2], [1, 3], [2, 4], [4, 4], [4, 3])),\n",
    "    Polyhedron.from_vertices(([5, 4], [7, 4], [6, 3])),\n",
    "    Polyhedron.from_vertices(([7, 2], [8, 2], [9, 3], [8, 4])),\n",
    ")\n",
    "ellipsoids = (\n",
    "    Ellipsoid((4, 1), ([1, 0], [0, 1])),\n",
    "    Ellipsoid((7, -2), ([.25, 0], [0, 1])),\n",
    ")\n",
    "sets = singletons + polyhedra + ellipsoids\n",
    "\n",
    "# label for the vertices\n",
    "vertices = ['s', 't']\n",
    "vertices += [f'p{i}' for i in range(len(polyhedra))]\n",
    "vertices += [f'e{i}' for i in range(len(ellipsoids))]\n",
    "\n",
    "# add convex sets to the graph\n",
    "G = GraphOfConvexSets()\n",
    "G.add_sets(sets, vertices)\n",
    "G.set_source('s')\n",
    "G.set_target('t')\n",
    "\n",
    "# edges\n",
    "H = np.hstack((np.eye(2), -np.eye(2)))\n",
    "l = TwoNorm(H)\n",
    "edges = {\n",
    "    's': ('p0', 'p1', 'p2'),\n",
    "    'p0': ('e1',),\n",
    "    'p1': ('p2', 'e0', 'e1'),\n",
    "    'p2': ('p1', 'p3', 'e0'),\n",
    "    'p3': ('t', 'p2', 'p4', 'e1'),\n",
    "    'p4': ('t', 'e0'),\n",
    "    'e0': ('p3', 'p4', 'e1'),\n",
    "    'e1': ('t', 'p4', 'e0')\n",
    "}\n",
    "for u, vs in edges.items():\n",
    "    for v in vs:\n",
    "        G.add_edge(u, v, l)\n",
    "        \n",
    "# draw convex sets and edges\n",
    "plt.figure()\n",
    "G.draw_sets()\n",
    "G.draw_edges()\n",
    "G.label_sets()"
   ]
  },
  {
   "cell_type": "code",
   "execution_count": null,
   "metadata": {},
   "outputs": [],
   "source": [
    "G.graphviz()"
   ]
  },
  {
   "cell_type": "code",
   "execution_count": null,
   "metadata": {},
   "outputs": [],
   "source": [
    "spp = ShortestPathProblem(G, relaxation=0)\n",
    "sol = spp.solve()\n",
    "\n",
    "print('Cost:', sol.cost)\n",
    "print('\\nFlows:')\n",
    "for k, edge in enumerate(G.edges):\n",
    "    flow = round(abs(sol.primal.phi[k]), 4)\n",
    "    print(edge, flow)"
   ]
  },
  {
   "cell_type": "code",
   "execution_count": null,
   "metadata": {},
   "outputs": [],
   "source": [
    "# edge lenghts\n",
    "l2 = SquaredTwoNorm(H)\n",
    "G2 = deepcopy(G)\n",
    "for e in G2.edges:\n",
    "    G2.set_edge_length(e, l2)\n",
    "\n",
    "spp2 = ShortestPathProblem(G2, relaxation=0)\n",
    "sol2 = spp2.solve()\n",
    "\n",
    "print('Cost:', sol2.cost)\n",
    "print('\\nFlows:')\n",
    "for k, edge in enumerate(G2.edges):\n",
    "    flow = round(abs(sol2.primal.phi[k]), 4)\n",
    "    print(edge, flow)"
   ]
  },
  {
   "cell_type": "code",
   "execution_count": null,
   "metadata": {},
   "outputs": [],
   "source": [
    "plt.figure(figsize=(4,5))\n",
    "G.draw_sets()\n",
    "G.draw_edges()\n",
    "\n",
    "offset = np.array([0, -.25])\n",
    "plt.text(*(G.source_set.center + offset), r'$X_s$', ha='center', va='top')\n",
    "plt.text(*(G.target_set.center + offset), r'$X_t$', ha='center', va='top')\n",
    "\n",
    "plt.plot([np.nan] * 2, 'b--', label='Euclidean distance')\n",
    "plt.plot([np.nan] * 2, 'r-.', label='Euclidean distance squared')\n",
    "G.draw_path(sol.primal.phi, sol.primal.x, color='b', linestyle='--')\n",
    "G.draw_path(sol2.primal.phi, sol2.primal.x, color='r', linestyle='-.')\n",
    "\n",
    "plt.xticks(range(10))\n",
    "plt.legend(loc='lower center', bbox_to_anchor=(0.5, 1.0))\n",
    "plt.grid()\n",
    "plt.savefig('2d_setup.pdf', bbox_inches='tight')"
   ]
  },
  {
   "cell_type": "code",
   "execution_count": null,
   "metadata": {},
   "outputs": [],
   "source": [
    "scales = np.logspace(-2, 2, 200)\n",
    "c_micp = []\n",
    "c_relaxation = []\n",
    "c_micp2 = []\n",
    "c_relaxation2 = []\n",
    "for s in scales:\n",
    "    \n",
    "    G_scaled = deepcopy(G)\n",
    "    G_scaled.scale(s)\n",
    "    spp = ShortestPathProblem(G_scaled, relaxation=0)\n",
    "    c_micp.append(spp.solve().cost)\n",
    "    spp = ShortestPathProblem(G_scaled, relaxation=1)\n",
    "    c_relaxation.append(spp.solve().cost)\n",
    "    \n",
    "    G2_scaled = deepcopy(G2)\n",
    "    G2_scaled.scale(s)\n",
    "    spp = ShortestPathProblem(G2_scaled, relaxation=0)\n",
    "    c_micp2.append(spp.solve().cost)\n",
    "    spp = ShortestPathProblem(G2_scaled, relaxation=1)\n",
    "    c_relaxation2.append(spp.solve().cost)"
   ]
  },
  {
   "cell_type": "code",
   "execution_count": null,
   "metadata": {
    "scrolled": true
   },
   "outputs": [],
   "source": [
    "def micp_vs_relaxation(c_micp, c_relaxation):\n",
    "    plt.plot(scales, c_micp, label='MICP', linestyle='-', linewidth=2)\n",
    "    plt.plot(scales, c_relaxation, label='Convex relaxation', linestyle='--', linewidth=2)\n",
    "    plt.xlabel(r'Scale factor $r$')\n",
    "    plt.ylabel('Cost')\n",
    "    plt.xlim([scales[0], scales[-1]])\n",
    "    plt.xscale('log')\n",
    "    plt.grid(1)\n",
    "    plt.legend(loc=1)"
   ]
  },
  {
   "cell_type": "code",
   "execution_count": null,
   "metadata": {},
   "outputs": [],
   "source": [
    "plt.figure(figsize=(3.5, 3))\n",
    "micp_vs_relaxation(c_micp, c_relaxation)\n",
    "# plt.savefig('2d_2norm.pdf', bbox_inches='tight')"
   ]
  },
  {
   "cell_type": "code",
   "execution_count": null,
   "metadata": {},
   "outputs": [],
   "source": [
    "plt.figure(figsize=(3.5, 3))\n",
    "micp_vs_relaxation(c_micp2, c_relaxation2)\n",
    "# plt.savefig('2d_squared2norm.pdf', bbox_inches='tight')"
   ]
  }
 ],
 "metadata": {
  "kernelspec": {
   "display_name": "Python 3",
   "language": "python",
   "name": "python3"
  },
  "language_info": {
   "codemirror_mode": {
    "name": "ipython",
    "version": 3
   },
   "file_extension": ".py",
   "mimetype": "text/x-python",
   "name": "python",
   "nbconvert_exporter": "python",
   "pygments_lexer": "ipython3",
   "version": "3.9.9"
  }
 },
 "nbformat": 4,
 "nbformat_minor": 4
}
