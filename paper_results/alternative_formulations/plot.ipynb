{
 "cells": [
  {
   "cell_type": "code",
   "execution_count": null,
   "id": "10f13f6c",
   "metadata": {},
   "outputs": [],
   "source": [
    "%matplotlib notebook\n",
    "%load_ext autoreload\n",
    "%autoreload 2"
   ]
  },
  {
   "cell_type": "code",
   "execution_count": null,
   "id": "17b6f059",
   "metadata": {},
   "outputs": [],
   "source": [
    "import numpy as np\n",
    "import matplotlib.pyplot as plt"
   ]
  },
  {
   "cell_type": "code",
   "execution_count": null,
   "id": "5e85dc55",
   "metadata": {},
   "outputs": [],
   "source": [
    "scales = np.load('scales.npy')\n",
    "micp = np.load('cost_2norm_micp.npy')\n",
    "micp_squared = np.load('cost_2norm_squared_micp.npy')\n",
    "edgewise = np.load('cost_2norm_edgewise.npy')\n",
    "edgewise_squared = np.load('cost_2norm_squared_edgewise.npy')\n",
    "ch = np.load('cost_2norm_ch.npy')\n",
    "ch_squared = np.load('cost_2norm_squared_ch.npy')\n",
    "proposed = np.load('cost_2norm_proposed.npy')\n",
    "proposed_squared = np.load('cost_2norm_squared_proposed.npy')"
   ]
  },
  {
   "cell_type": "code",
   "execution_count": null,
   "id": "d1dcb78e",
   "metadata": {},
   "outputs": [],
   "source": [
    "def micp_vs_relaxation(micp, proposed, edgewise, ch):\n",
    "    plt.plot(scales, micp, label='MICP', linestyle='-', linewidth=2)\n",
    "    plt.plot(scales, proposed, label='Proposed formulation', linestyle='--', linewidth=2)\n",
    "    plt.plot(scales, edgewise, label='Edge-by-edge formulation', linestyle='-.', linewidth=2)\n",
    "    plt.plot(scales, ch, label='Convex-hull formulation', linestyle=':', linewidth=2)\n",
    "    plt.xlabel(r'Scale factor $r$')\n",
    "    plt.ylabel('Cost')\n",
    "    plt.xlim([scales[0], scales[-1]])\n",
    "    plt.xscale('log')\n",
    "    plt.grid(1)\n",
    "    plt.legend(loc=3)"
   ]
  },
  {
   "cell_type": "code",
   "execution_count": null,
   "id": "59f20256",
   "metadata": {},
   "outputs": [],
   "source": [
    "plt.figure(figsize=(5, 3))\n",
    "micp_vs_relaxation(micp, proposed, edgewise, ch)"
   ]
  },
  {
   "cell_type": "code",
   "execution_count": null,
   "id": "ca4c23bf",
   "metadata": {},
   "outputs": [],
   "source": [
    "plt.figure(figsize=(5, 3))\n",
    "micp_vs_relaxation(micp_squared, proposed_squared, edgewise_squared, ch_squared)"
   ]
  }
 ],
 "metadata": {
  "kernelspec": {
   "display_name": "Python 3",
   "language": "python",
   "name": "python3"
  },
  "language_info": {
   "codemirror_mode": {
    "name": "ipython",
    "version": 3
   },
   "file_extension": ".py",
   "mimetype": "text/x-python",
   "name": "python",
   "nbconvert_exporter": "python",
   "pygments_lexer": "ipython3",
   "version": "3.9.4"
  }
 },
 "nbformat": 4,
 "nbformat_minor": 5
}
