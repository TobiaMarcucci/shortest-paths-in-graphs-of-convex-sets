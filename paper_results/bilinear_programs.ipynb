{
 "cells": [
  {
   "cell_type": "code",
   "execution_count": null,
   "id": "90b8162a",
   "metadata": {},
   "outputs": [],
   "source": [
    "import numpy as np\n",
    "from spp.convex_sets import Polyhedron\n",
    "from pydrake.all import MathematicalProgram, MosekSolver"
   ]
  },
  {
   "cell_type": "markdown",
   "id": "376954c9",
   "metadata": {},
   "source": [
    "# Examples from \"Global optimization: Deterministic approaches\"\n",
    "\n",
    "In this section we test the convex relaxation from the paper on two simple bilinear-optimization problems taken from Section IX.1 of Horst and Reiner \"Global optimization: Deterministic approaches.\"\n",
    "These are all the examples given in the book in which the convex sets are bounded.\n",
    "In both cases, our convex relaxation is tight."
   ]
  },
  {
   "cell_type": "code",
   "execution_count": null,
   "id": "981ffae7",
   "metadata": {},
   "outputs": [],
   "source": [
    "def bilinear_program(X, Phi, p, q, r):\n",
    "\n",
    "    prog = MathematicalProgram()\n",
    "\n",
    "    phi = prog.NewContinuousVariables(Phi.dimension)\n",
    "    x = prog.NewContinuousVariables(X.dimension)\n",
    "    omega = prog.NewContinuousVariables(Phi.dimension * X.dimension)\n",
    "\n",
    "    Phi.add_membership_constraint(prog, phi)\n",
    "    X.add_membership_constraint(prog, x)\n",
    "\n",
    "    for i in range(Phi.C.shape[0]):\n",
    "        scale = Phi.d[i] - Phi.C[i].dot(phi)\n",
    "        vector =  Phi.d[i] * x - np.kron(Phi.C[i], np.eye(X.dimension)).dot(omega)\n",
    "        X.add_perspective_constraint(prog, scale, vector)\n",
    "\n",
    "    obj = p.dot(phi) + q.dot(x) + r.dot(omega)\n",
    "    prog.AddLinearCost(- obj)\n",
    "\n",
    "    solver = MosekSolver()\n",
    "    result = solver.Solve(prog)\n",
    "    \n",
    "    obj = - result.get_optimal_cost()\n",
    "    phi = result.GetSolution(phi)\n",
    "    x = result.GetSolution(x)\n",
    "    omega = result.GetSolution(omega)\n",
    "    \n",
    "    return obj, phi, x, omega"
   ]
  },
  {
   "cell_type": "markdown",
   "id": "8fce68cd",
   "metadata": {},
   "source": [
    "- Example from Konno \"A cutting plane algorithm for solving bilinear programs\" (Figure 4.1). See also Example IX.1 from Horst and Reiner \"Global optimization: Deterministic approaches.\"\n",
    "- Our convex relaxation is tight: optimal value is 13."
   ]
  },
  {
   "cell_type": "code",
   "execution_count": null,
   "id": "dd112ca2",
   "metadata": {},
   "outputs": [],
   "source": [
    "C1 = np.array([[1, 4], [4, 1], [3, 4], [-1, 0], [0, -1]])\n",
    "d1 = np.array([8, 12, 12, 0, 0])\n",
    "C2 = np.array([[2, 1], [1, 2], [1, 1], [-1, 0], [0, -1]])\n",
    "d2 = np.array([8, 8, 5, 0, 0])\n",
    "Phi = Polyhedron(ineq_matrices=(C1, d1))\n",
    "X = Polyhedron(ineq_matrices=(C2, d2))\n",
    "\n",
    "p = np.array([-1, 1])\n",
    "q = np.array([1, 0])\n",
    "r = np.array([1, -1, -1, 1])\n",
    "\n",
    "bilinear_program(X, Phi, p, q, r)"
   ]
  },
  {
   "cell_type": "markdown",
   "id": "b6d9c5ab",
   "metadata": {},
   "source": [
    "- Example from Gallo and Ulkucu \"Bilinear programming: an exact algorithm\" (Appendix A). See also Example IX.2 from Horst and Reiner \"Global optimization: Deterministic approaches.\"\n",
    "- Our convex relaxation is tight: optimal value is 18."
   ]
  },
  {
   "cell_type": "code",
   "execution_count": null,
   "id": "6ffff6a8",
   "metadata": {},
   "outputs": [],
   "source": [
    "C1 = np.array([\n",
    "    [1, 1],\n",
    "    [2, 1],\n",
    "    [3, -1],\n",
    "    [1, -2],\n",
    "    [-1, 0],\n",
    "    [0, -1]\n",
    "])\n",
    "d1 = np.array([5, 7, 6, 1, 0, 0])\n",
    "C2 = np.array([\n",
    "    [1, 2],\n",
    "    [3, 1],\n",
    "    [2, 0],\n",
    "    [0, 1],\n",
    "    [-1, 0],\n",
    "    [0, -1]\n",
    "])\n",
    "d2 = np.array([8, 14, 9, 3, 0, 0])\n",
    "Phi = Polyhedron(ineq_matrices=(C1, d1))\n",
    "X = Polyhedron(ineq_matrices=(C2, d2))\n",
    "\n",
    "p = np.array([2, 0])\n",
    "q = np.array([0, 1])\n",
    "r = np.array([1, -1, -1, 1])\n",
    "\n",
    "bilinear_program(X, Phi, p, q, r)"
   ]
  },
  {
   "cell_type": "markdown",
   "id": "30be5547",
   "metadata": {},
   "source": [
    "# Adversarial instance\n",
    "\n",
    "The following bilinear pogram comes from CHSH inequalities in quantum.\n",
    "It is a kown hard bilinear program. Its optimal cost is 2, achieved for $\\varphi=x=(1,1)$.\n",
    "Our convex relaxation has an optimal cost of 4."
   ]
  },
  {
   "cell_type": "code",
   "execution_count": null,
   "id": "ed470255",
   "metadata": {},
   "outputs": [],
   "source": [
    "Phi = Polyhedron.from_bounds([-1, -1], [1, 1])\n",
    "X = Polyhedron.from_bounds([-1, -1], [1, 1])\n",
    "\n",
    "p = np.array([0, 0])\n",
    "q = p\n",
    "r = np.array([1, 1, 1, -1])\n",
    "\n",
    "bilinear_program(X, Phi, p, q, r)"
   ]
  },
  {
   "cell_type": "markdown",
   "id": "63ab094a",
   "metadata": {},
   "source": [
    "The SDP relaxation of the CHSH maximization has a cost of $2 \\sqrt 2$ and is tighter than the proposed relaxation."
   ]
  },
  {
   "cell_type": "code",
   "execution_count": null,
   "id": "d69d3d96",
   "metadata": {},
   "outputs": [],
   "source": [
    "from pydrake.all import eq\n",
    "def sdp_relaxation(X, Phi, p, q, r):\n",
    "    \n",
    "    prog = MathematicalProgram()\n",
    "\n",
    "    phi = prog.NewContinuousVariables(Phi.dimension, name='phi')\n",
    "    x = prog.NewContinuousVariables(X.dimension, name='x')\n",
    "    Omega = prog.NewContinuousVariables(Phi.dimension, X.dimension, name='w')\n",
    "    \n",
    "    Phi.add_membership_constraint(prog, phi)\n",
    "    X.add_membership_constraint(prog, x)\n",
    "    \n",
    "    M2 = prog.NewContinuousVariables(Phi.dimension, Phi.dimension)\n",
    "    M3 = prog.NewContinuousVariables(X.dimension, X.dimension)\n",
    "    M = np.block([\n",
    "        [np.ones(1), phi, x],\n",
    "        [phi.reshape((Phi.dimension, 1)), M2, Omega],\n",
    "        [x.reshape((X.dimension, 1)), Omega.T, M3]\n",
    "    ])\n",
    "    prog.AddPositiveSemidefiniteConstraint(M)\n",
    "    \n",
    "    prog.AddLinearConstraint(eq(np.diag(M2), 1))\n",
    "    prog.AddLinearConstraint(eq(np.diag(M3), 1))\n",
    "    \n",
    "    obj = p.dot(phi) + q.dot(x) + r.dot(Omega.flatten())\n",
    "    prog.AddLinearCost(- obj)\n",
    "\n",
    "    solver = MosekSolver()\n",
    "    result = solver.Solve(prog)\n",
    "    \n",
    "    obj = - result.get_optimal_cost()\n",
    "    phi = result.GetSolution(phi)\n",
    "    x = result.GetSolution(x)\n",
    "    omega = result.GetSolution(Omega).flatten()\n",
    "    \n",
    "    return obj, phi, x, omega\n",
    "\n",
    "sdp_relaxation(X, Phi, p, q, r)"
   ]
  }
 ],
 "metadata": {
  "kernelspec": {
   "display_name": "Python 3",
   "language": "python",
   "name": "python3"
  },
  "language_info": {
   "codemirror_mode": {
    "name": "ipython",
    "version": 3
   },
   "file_extension": ".py",
   "mimetype": "text/x-python",
   "name": "python",
   "nbconvert_exporter": "python",
   "pygments_lexer": "ipython3",
   "version": "3.9.6"
  }
 },
 "nbformat": 4,
 "nbformat_minor": 5
}
